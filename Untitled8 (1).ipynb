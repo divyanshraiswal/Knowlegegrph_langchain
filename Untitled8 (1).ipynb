{
  "nbformat": 4,
  "nbformat_minor": 0,
  "metadata": {
    "colab": {
      "provenance": [],
      "gpuType": "T4"
    },
    "kernelspec": {
      "name": "python3",
      "display_name": "Python 3"
    },
    "language_info": {
      "name": "python"
    },
    "accelerator": "GPU"
  },
  "cells": [
    {
      "cell_type": "code",
      "execution_count": null,
      "metadata": {
        "collapsed": true,
        "id": "U52cZ1ZLwzqi"
      },
      "outputs": [],
      "source": [
        "!pip install --upgrade --quiet langchain langchain-community langchain-groq neo4j\n"
      ]
    },
    {
      "cell_type": "code",
      "source": [
        "#graphdb congig\n",
        "NEO4J_URI=\"neo4j+s://e6c0e5d9.databases.neo4j.io\"\n",
        "NEO4J_USERNAME=\"neo4j\"\n",
        "NEO4J_PASSWORD=\"JCNLCdvcJfl_lyKpmmqBTq_-On18wvsPS7FqbTs3FbY\""
      ],
      "metadata": {
        "id": "z-_F843VyePu"
      },
      "execution_count": null,
      "outputs": []
    },
    {
      "cell_type": "code",
      "source": [
        "import os\n",
        "os.environ[\"NEO4J_URI\"] = NEO4J_URI\n",
        "os.environ[\"NEO4J_USERNAME\"] = NEO4J_USERNAME\n",
        "os.environ[\"NEO4J_PASSWORD\"] = NEO4J_PASSWORD"
      ],
      "metadata": {
        "id": "ai9cBgEpzCrL"
      },
      "execution_count": null,
      "outputs": []
    },
    {
      "cell_type": "code",
      "source": [
        "from langchain_community.graphs import Neo4jGraph\n",
        "graph=Neo4jGraph(\n",
        "    url=NEO4J_URI,\n",
        "    username=NEO4J_USERNAME,\n",
        "    password=NEO4J_PASSWORD,\n",
        ")"
      ],
      "metadata": {
        "id": "6n4tBLpEziiv"
      },
      "execution_count": null,
      "outputs": []
    },
    {
      "cell_type": "code",
      "source": [
        "graph"
      ],
      "metadata": {
        "colab": {
          "base_uri": "https://localhost:8080/"
        },
        "id": "s06R4d8Y5Rfx",
        "outputId": "6d3548e3-190d-402b-b844-83adf20b9d7d"
      },
      "execution_count": null,
      "outputs": [
        {
          "output_type": "execute_result",
          "data": {
            "text/plain": [
              "<langchain_community.graphs.neo4j_graph.Neo4jGraph at 0x7ef123c46350>"
            ]
          },
          "metadata": {},
          "execution_count": 47
        }
      ]
    },
    {
      "cell_type": "code",
      "source": [
        "groq_api_key=\"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\""
      ],
      "metadata": {
        "id": "Z9mBb4SQ0MUc"
      },
      "execution_count": null,
      "outputs": []
    },
    {
      "cell_type": "code",
      "source": [
        "from langchain_groq import ChatGroq\n",
        "llm=ChatGroq(\n",
        "    groq_api_key=groq_api_key,\n",
        "    model_name=\"Gemma2-9b-It\"\n",
        ")"
      ],
      "metadata": {
        "id": "Map3PiF61o7r"
      },
      "execution_count": null,
      "outputs": []
    },
    {
      "cell_type": "code",
      "source": [
        "from langchain_core.documents import Document\n",
        "text=\"\"\"\n",
        "Mark Elliot Zuckerberg (/ˈzʌkərbɜːrɡ/; born May 14, 1984) is an American businessman.\n",
        "He co-founded the social media service Facebook and its parent company Meta Platforms (formerly Facebook, Inc.), of which he is chairman, chief executive officer and controlling shareholder.\n",
        "Zuckerberg has been the subject of multiple lawsuits regarding the creation and ownership of the website as well as issues of user privacy.\n",
        "\n",
        "\"\"\"\n",
        "documents=[Document(page_content=text)]\n",
        "documents"
      ],
      "metadata": {
        "colab": {
          "base_uri": "https://localhost:8080/"
        },
        "id": "IFFLNcGF2VF7",
        "outputId": "6ba8f37b-471d-4814-dcfe-25053fa3c404"
      },
      "execution_count": null,
      "outputs": [
        {
          "output_type": "execute_result",
          "data": {
            "text/plain": [
              "[Document(page_content='\\nMark Elliot Zuckerberg (/ˈzʌkərbɜːrɡ/; born May 14, 1984) is an American businessman.\\nHe co-founded the social media service Facebook and its parent company Meta Platforms (formerly Facebook, Inc.), of which he is chairman, chief executive officer and controlling shareholder.\\nZuckerberg has been the subject of multiple lawsuits regarding the creation and ownership of the website as well as issues of user privacy.\\n\\n')]"
            ]
          },
          "metadata": {},
          "execution_count": 50
        }
      ]
    },
    {
      "cell_type": "code",
      "source": [
        "!pip install --upgrade --quiet langchain_experimental"
      ],
      "metadata": {
        "id": "07dmIAJV3cwA"
      },
      "execution_count": null,
      "outputs": []
    },
    {
      "cell_type": "code",
      "source": [
        "from langchain_experimental.graph_transformers import LLMGraphTransformer\n",
        "LLMGraphTransformer=LLMGraphTransformer(llm=llm)"
      ],
      "metadata": {
        "id": "EMjJirZM3On4"
      },
      "execution_count": null,
      "outputs": []
    },
    {
      "cell_type": "code",
      "source": [
        "graph_documents=LLMGraphTransformer.convert_to_graph_documents(documents)"
      ],
      "metadata": {
        "id": "RRjZmUXh393k"
      },
      "execution_count": null,
      "outputs": []
    },
    {
      "cell_type": "code",
      "source": [
        "graph_documents"
      ],
      "metadata": {
        "colab": {
          "base_uri": "https://localhost:8080/"
        },
        "id": "4azPdgrZ5hlh",
        "outputId": "d051ce1a-26a9-4306-df09-480cf5f8325d"
      },
      "execution_count": null,
      "outputs": [
        {
          "output_type": "execute_result",
          "data": {
            "text/plain": [
              "[GraphDocument(nodes=[Node(id='Mark Elliot Zuckerberg', type='Person'), Node(id='Facebook', type='Organization'), Node(id='Meta Platforms', type='Organization')], relationships=[Relationship(source=Node(id='Mark Elliot Zuckerberg', type='Person'), target=Node(id='Facebook', type='Organization'), type='CO-FOUNDER'), Relationship(source=Node(id='Mark Elliot Zuckerberg', type='Person'), target=Node(id='Meta Platforms', type='Organization'), type='CHAIRMAN'), Relationship(source=Node(id='Mark Elliot Zuckerberg', type='Person'), target=Node(id='Meta Platforms', type='Organization'), type='CHIEF_EXECUTIVE_OFFICER'), Relationship(source=Node(id='Mark Elliot Zuckerberg', type='Person'), target=Node(id='Meta Platforms', type='Organization'), type='CONTROLLING_SHAREHOLDER')], source=Document(page_content='\\nMark Elliot Zuckerberg (/ˈzʌkərbɜːrɡ/; born May 14, 1984) is an American businessman.\\nHe co-founded the social media service Facebook and its parent company Meta Platforms (formerly Facebook, Inc.), of which he is chairman, chief executive officer and controlling shareholder.\\nZuckerberg has been the subject of multiple lawsuits regarding the creation and ownership of the website as well as issues of user privacy.\\n\\n'))]"
            ]
          },
          "metadata": {},
          "execution_count": 54
        }
      ]
    },
    {
      "cell_type": "code",
      "source": [
        "graph_documents[0].nodes"
      ],
      "metadata": {
        "colab": {
          "base_uri": "https://localhost:8080/"
        },
        "id": "Z17ETz-y6QVI",
        "outputId": "2329cb06-5f13-4196-84c6-dcba95e2e2b6"
      },
      "execution_count": null,
      "outputs": [
        {
          "output_type": "execute_result",
          "data": {
            "text/plain": [
              "[Node(id='Mark Elliot Zuckerberg', type='Person'),\n",
              " Node(id='Facebook', type='Organization'),\n",
              " Node(id='Meta Platforms', type='Organization')]"
            ]
          },
          "metadata": {},
          "execution_count": 39
        }
      ]
    },
    {
      "cell_type": "code",
      "source": [
        "graph_documents[0].relationships"
      ],
      "metadata": {
        "colab": {
          "base_uri": "https://localhost:8080/"
        },
        "id": "8rhdCVnf6qfv",
        "outputId": "afe6ddb2-aa4f-46b2-939e-790b25ef8cda"
      },
      "execution_count": null,
      "outputs": [
        {
          "output_type": "execute_result",
          "data": {
            "text/plain": [
              "[Relationship(source=Node(id='Mark Elliot Zuckerberg', type='Person'), target=Node(id='Facebook', type='Organization'), type='CO_FOUNDER'),\n",
              " Relationship(source=Node(id='Mark Elliot Zuckerberg', type='Person'), target=Node(id='Meta Platforms', type='Organization'), type='CHAIRMAN'),\n",
              " Relationship(source=Node(id='Mark Elliot Zuckerberg', type='Person'), target=Node(id='Meta Platforms', type='Organization'), type='CEO'),\n",
              " Relationship(source=Node(id='Mark Elliot Zuckerberg', type='Person'), target=Node(id='Meta Platforms', type='Organization'), type='CONTROLLING_SHAREHOLDER')]"
            ]
          },
          "metadata": {},
          "execution_count": 42
        }
      ]
    },
    {
      "cell_type": "code",
      "source": [
        "##load the datset of movie\n",
        "movie_query=\"\"\"\n",
        "LOAD CSV WITH HEADERS FROM\n",
        "'https://raw.githubusercontent.com/tomasonjo/blog-datasets/main/movies/movies_small.csv' as row\n",
        "\n",
        "MERGE(m:Movie{id:row.movieId})\n",
        "SET m.released = date(row.released),\n",
        "    m.TITLE = row.title,\n",
        "    m.imdbRating = toFloat(row.imdbRating)\n",
        "FOREACH (director in split(row.director, '|') |\n",
        "    MERGE (p:PERSON {name:trim(director)})\n",
        "    MERGE (p)-[:DIRECTED]->(m))\n",
        "FOREACH (actor in split(row.actors, '|') |\n",
        "    MERGE (p:PERSON {name:trim(actor)})\n",
        "    MERGE (p)-[:ACTED_IN]->(m))\n",
        "FOREACH (genre in split(row.genres, '|') |\n",
        "    MERGE (g:GENRE {name:trim(genre)})\n",
        "    MERGE (m)-[:IN_GENRE]->(g))\n",
        "\n",
        "\"\"\""
      ],
      "metadata": {
        "id": "0lPITtbw631A"
      },
      "execution_count": 62,
      "outputs": []
    },
    {
      "cell_type": "code",
      "source": [
        "graph"
      ],
      "metadata": {
        "colab": {
          "base_uri": "https://localhost:8080/"
        },
        "id": "f_D7eOdZIXWd",
        "outputId": "1a19ef30-68fa-4439-d488-18e1a0e9f89c"
      },
      "execution_count": 63,
      "outputs": [
        {
          "output_type": "execute_result",
          "data": {
            "text/plain": [
              "<langchain_community.graphs.neo4j_graph.Neo4jGraph at 0x7ef123c46350>"
            ]
          },
          "metadata": {},
          "execution_count": 63
        }
      ]
    },
    {
      "cell_type": "code",
      "source": [
        "graph.query(movie_query)"
      ],
      "metadata": {
        "colab": {
          "base_uri": "https://localhost:8080/"
        },
        "id": "a8wbbTClIYQ9",
        "outputId": "7d6a9e8a-d540-4045-829a-23b25a2206aa"
      },
      "execution_count": 64,
      "outputs": [
        {
          "output_type": "execute_result",
          "data": {
            "text/plain": [
              "[]"
            ]
          },
          "metadata": {},
          "execution_count": 64
        }
      ]
    },
    {
      "cell_type": "code",
      "source": [],
      "metadata": {
        "id": "4zTQyFItLGhV"
      },
      "execution_count": null,
      "outputs": []
    }
  ]
}